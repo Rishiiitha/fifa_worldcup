{
 "cells": [
  {
   "cell_type": "code",
   "execution_count": 2,
   "id": "0e7247aa",
   "metadata": {},
   "outputs": [],
   "source": [
    "import pandas as pd\n",
    "import numpy as np\n",
    "import matplotlib.pyplot as plt\n",
    "import seaborn as sns"
   ]
  },
  {
   "cell_type": "markdown",
   "id": "95060d58",
   "metadata": {},
   "source": [
    "Part 1 – Basic Data Understanding (Pandas)\n",
    "\n",
    "Load the dataset and display the first 10 rows.\n",
    "\n",
    "\n",
    "Show the shape, column names, and data types.\n",
    "\n",
    "\n",
    "Check for missing values and duplicates.\n",
    "\n",
    "\n",
    "Get a summary of numerical and categorical columns using .describe().\n",
    "\n",
    "\n",
    "Find the number of unique clubs and nationalities.\n",
    "\n",
    "\n",
    "Get the most common nationality among players.\n",
    "\n",
    "\n",
    "Find the highest value in overall and co"
   ]
  },
  {
   "cell_type": "code",
   "execution_count": 22,
   "id": "24b96dd8",
   "metadata": {},
   "outputs": [],
   "source": [
    "df21=pd.read_csv('players_21.csv')\n",
    "df20=pd.read_csv('players_20.csv')\n",
    "df19=pd.read_csv('players_19.csv')\n",
    "df18=pd.read_csv('players_18.csv')\n",
    "df17=pd.read_csv('players_17.csv')\n",
    "df16=pd.read_csv('players_16.csv')\n",
    "df15=pd.read_csv('players_15.csv')"
   ]
  },
  {
   "cell_type": "code",
   "execution_count": 23,
   "id": "0011a2f7",
   "metadata": {},
   "outputs": [
    {
     "data": {
      "text/plain": [
       "(18944, 106)"
      ]
     },
     "execution_count": 23,
     "metadata": {},
     "output_type": "execute_result"
    }
   ],
   "source": [
    "df21.shape"
   ]
  },
  {
   "cell_type": "code",
   "execution_count": 53,
   "id": "90de1b6e",
   "metadata": {},
   "outputs": [
    {
     "data": {
      "text/html": [
       "<div>\n",
       "<style scoped>\n",
       "    .dataframe tbody tr th:only-of-type {\n",
       "        vertical-align: middle;\n",
       "    }\n",
       "\n",
       "    .dataframe tbody tr th {\n",
       "        vertical-align: top;\n",
       "    }\n",
       "\n",
       "    .dataframe thead th {\n",
       "        text-align: right;\n",
       "    }\n",
       "</style>\n",
       "<table border=\"1\" class=\"dataframe\">\n",
       "  <thead>\n",
       "    <tr style=\"text-align: right;\">\n",
       "      <th></th>\n",
       "      <th>sofifa_id</th>\n",
       "      <th>age</th>\n",
       "      <th>height_cm</th>\n",
       "      <th>weight_kg</th>\n",
       "      <th>league_rank</th>\n",
       "      <th>overall</th>\n",
       "      <th>potential</th>\n",
       "      <th>value_eur</th>\n",
       "      <th>wage_eur</th>\n",
       "      <th>international_reputation</th>\n",
       "      <th>...</th>\n",
       "      <th>mentality_penalties</th>\n",
       "      <th>mentality_composure</th>\n",
       "      <th>defending_marking</th>\n",
       "      <th>defending_standing_tackle</th>\n",
       "      <th>defending_sliding_tackle</th>\n",
       "      <th>goalkeeping_diving</th>\n",
       "      <th>goalkeeping_handling</th>\n",
       "      <th>goalkeeping_kicking</th>\n",
       "      <th>goalkeeping_positioning</th>\n",
       "      <th>goalkeeping_reflexes</th>\n",
       "    </tr>\n",
       "  </thead>\n",
       "  <tbody>\n",
       "    <tr>\n",
       "      <th>count</th>\n",
       "      <td>18944.000000</td>\n",
       "      <td>18944.000000</td>\n",
       "      <td>18944.000000</td>\n",
       "      <td>18944.000000</td>\n",
       "      <td>18719.000000</td>\n",
       "      <td>18944.000000</td>\n",
       "      <td>18944.000000</td>\n",
       "      <td>1.894400e+04</td>\n",
       "      <td>18944.000000</td>\n",
       "      <td>18944.000000</td>\n",
       "      <td>...</td>\n",
       "      <td>18944.000000</td>\n",
       "      <td>18944.000000</td>\n",
       "      <td>0.0</td>\n",
       "      <td>18944.000000</td>\n",
       "      <td>18944.000000</td>\n",
       "      <td>18944.000000</td>\n",
       "      <td>18944.000000</td>\n",
       "      <td>18944.000000</td>\n",
       "      <td>18944.000000</td>\n",
       "      <td>18944.000000</td>\n",
       "    </tr>\n",
       "    <tr>\n",
       "      <th>mean</th>\n",
       "      <td>226242.402872</td>\n",
       "      <td>25.225823</td>\n",
       "      <td>181.190773</td>\n",
       "      <td>75.016892</td>\n",
       "      <td>1.357070</td>\n",
       "      <td>65.677787</td>\n",
       "      <td>71.086729</td>\n",
       "      <td>2.224813e+06</td>\n",
       "      <td>8675.852513</td>\n",
       "      <td>1.091850</td>\n",
       "      <td>...</td>\n",
       "      <td>48.050412</td>\n",
       "      <td>57.978674</td>\n",
       "      <td>NaN</td>\n",
       "      <td>47.581767</td>\n",
       "      <td>45.546505</td>\n",
       "      <td>16.446052</td>\n",
       "      <td>16.236486</td>\n",
       "      <td>16.103357</td>\n",
       "      <td>16.225982</td>\n",
       "      <td>16.551309</td>\n",
       "    </tr>\n",
       "    <tr>\n",
       "      <th>std</th>\n",
       "      <td>27171.091056</td>\n",
       "      <td>4.697354</td>\n",
       "      <td>6.825672</td>\n",
       "      <td>7.057140</td>\n",
       "      <td>0.739327</td>\n",
       "      <td>7.002278</td>\n",
       "      <td>6.109985</td>\n",
       "      <td>5.102486e+06</td>\n",
       "      <td>19654.774894</td>\n",
       "      <td>0.361841</td>\n",
       "      <td>...</td>\n",
       "      <td>15.671721</td>\n",
       "      <td>12.118390</td>\n",
       "      <td>NaN</td>\n",
       "      <td>21.402461</td>\n",
       "      <td>20.953997</td>\n",
       "      <td>17.577332</td>\n",
       "      <td>16.845480</td>\n",
       "      <td>16.519399</td>\n",
       "      <td>17.017341</td>\n",
       "      <td>17.878121</td>\n",
       "    </tr>\n",
       "    <tr>\n",
       "      <th>min</th>\n",
       "      <td>41.000000</td>\n",
       "      <td>16.000000</td>\n",
       "      <td>155.000000</td>\n",
       "      <td>50.000000</td>\n",
       "      <td>1.000000</td>\n",
       "      <td>47.000000</td>\n",
       "      <td>47.000000</td>\n",
       "      <td>0.000000e+00</td>\n",
       "      <td>0.000000</td>\n",
       "      <td>1.000000</td>\n",
       "      <td>...</td>\n",
       "      <td>6.000000</td>\n",
       "      <td>12.000000</td>\n",
       "      <td>NaN</td>\n",
       "      <td>5.000000</td>\n",
       "      <td>4.000000</td>\n",
       "      <td>1.000000</td>\n",
       "      <td>1.000000</td>\n",
       "      <td>1.000000</td>\n",
       "      <td>1.000000</td>\n",
       "      <td>1.000000</td>\n",
       "    </tr>\n",
       "    <tr>\n",
       "      <th>25%</th>\n",
       "      <td>210030.500000</td>\n",
       "      <td>21.000000</td>\n",
       "      <td>176.000000</td>\n",
       "      <td>70.000000</td>\n",
       "      <td>1.000000</td>\n",
       "      <td>61.000000</td>\n",
       "      <td>67.000000</td>\n",
       "      <td>3.000000e+05</td>\n",
       "      <td>1000.000000</td>\n",
       "      <td>1.000000</td>\n",
       "      <td>...</td>\n",
       "      <td>38.750000</td>\n",
       "      <td>50.000000</td>\n",
       "      <td>NaN</td>\n",
       "      <td>27.000000</td>\n",
       "      <td>24.000000</td>\n",
       "      <td>8.000000</td>\n",
       "      <td>8.000000</td>\n",
       "      <td>8.000000</td>\n",
       "      <td>8.000000</td>\n",
       "      <td>8.000000</td>\n",
       "    </tr>\n",
       "    <tr>\n",
       "      <th>50%</th>\n",
       "      <td>232314.500000</td>\n",
       "      <td>25.000000</td>\n",
       "      <td>181.000000</td>\n",
       "      <td>75.000000</td>\n",
       "      <td>1.000000</td>\n",
       "      <td>66.000000</td>\n",
       "      <td>71.000000</td>\n",
       "      <td>6.500000e+05</td>\n",
       "      <td>3000.000000</td>\n",
       "      <td>1.000000</td>\n",
       "      <td>...</td>\n",
       "      <td>49.000000</td>\n",
       "      <td>59.000000</td>\n",
       "      <td>NaN</td>\n",
       "      <td>55.000000</td>\n",
       "      <td>52.000000</td>\n",
       "      <td>11.000000</td>\n",
       "      <td>11.000000</td>\n",
       "      <td>11.000000</td>\n",
       "      <td>11.000000</td>\n",
       "      <td>11.000000</td>\n",
       "    </tr>\n",
       "    <tr>\n",
       "      <th>75%</th>\n",
       "      <td>246760.250000</td>\n",
       "      <td>29.000000</td>\n",
       "      <td>186.000000</td>\n",
       "      <td>80.000000</td>\n",
       "      <td>1.000000</td>\n",
       "      <td>70.000000</td>\n",
       "      <td>75.000000</td>\n",
       "      <td>1.800000e+06</td>\n",
       "      <td>7000.000000</td>\n",
       "      <td>1.000000</td>\n",
       "      <td>...</td>\n",
       "      <td>60.000000</td>\n",
       "      <td>66.000000</td>\n",
       "      <td>NaN</td>\n",
       "      <td>65.000000</td>\n",
       "      <td>63.000000</td>\n",
       "      <td>14.000000</td>\n",
       "      <td>14.000000</td>\n",
       "      <td>14.000000</td>\n",
       "      <td>14.000000</td>\n",
       "      <td>14.000000</td>\n",
       "    </tr>\n",
       "    <tr>\n",
       "      <th>max</th>\n",
       "      <td>258970.000000</td>\n",
       "      <td>53.000000</td>\n",
       "      <td>206.000000</td>\n",
       "      <td>110.000000</td>\n",
       "      <td>4.000000</td>\n",
       "      <td>93.000000</td>\n",
       "      <td>95.000000</td>\n",
       "      <td>1.055000e+08</td>\n",
       "      <td>560000.000000</td>\n",
       "      <td>5.000000</td>\n",
       "      <td>...</td>\n",
       "      <td>92.000000</td>\n",
       "      <td>96.000000</td>\n",
       "      <td>NaN</td>\n",
       "      <td>93.000000</td>\n",
       "      <td>90.000000</td>\n",
       "      <td>90.000000</td>\n",
       "      <td>92.000000</td>\n",
       "      <td>93.000000</td>\n",
       "      <td>91.000000</td>\n",
       "      <td>90.000000</td>\n",
       "    </tr>\n",
       "  </tbody>\n",
       "</table>\n",
       "<p>8 rows × 62 columns</p>\n",
       "</div>"
      ],
      "text/plain": [
       "           sofifa_id           age     height_cm     weight_kg   league_rank  \\\n",
       "count   18944.000000  18944.000000  18944.000000  18944.000000  18719.000000   \n",
       "mean   226242.402872     25.225823    181.190773     75.016892      1.357070   \n",
       "std     27171.091056      4.697354      6.825672      7.057140      0.739327   \n",
       "min        41.000000     16.000000    155.000000     50.000000      1.000000   \n",
       "25%    210030.500000     21.000000    176.000000     70.000000      1.000000   \n",
       "50%    232314.500000     25.000000    181.000000     75.000000      1.000000   \n",
       "75%    246760.250000     29.000000    186.000000     80.000000      1.000000   \n",
       "max    258970.000000     53.000000    206.000000    110.000000      4.000000   \n",
       "\n",
       "            overall     potential     value_eur       wage_eur  \\\n",
       "count  18944.000000  18944.000000  1.894400e+04   18944.000000   \n",
       "mean      65.677787     71.086729  2.224813e+06    8675.852513   \n",
       "std        7.002278      6.109985  5.102486e+06   19654.774894   \n",
       "min       47.000000     47.000000  0.000000e+00       0.000000   \n",
       "25%       61.000000     67.000000  3.000000e+05    1000.000000   \n",
       "50%       66.000000     71.000000  6.500000e+05    3000.000000   \n",
       "75%       70.000000     75.000000  1.800000e+06    7000.000000   \n",
       "max       93.000000     95.000000  1.055000e+08  560000.000000   \n",
       "\n",
       "       international_reputation  ...  mentality_penalties  \\\n",
       "count              18944.000000  ...         18944.000000   \n",
       "mean                   1.091850  ...            48.050412   \n",
       "std                    0.361841  ...            15.671721   \n",
       "min                    1.000000  ...             6.000000   \n",
       "25%                    1.000000  ...            38.750000   \n",
       "50%                    1.000000  ...            49.000000   \n",
       "75%                    1.000000  ...            60.000000   \n",
       "max                    5.000000  ...            92.000000   \n",
       "\n",
       "       mentality_composure  defending_marking  defending_standing_tackle  \\\n",
       "count         18944.000000                0.0               18944.000000   \n",
       "mean             57.978674                NaN                  47.581767   \n",
       "std              12.118390                NaN                  21.402461   \n",
       "min              12.000000                NaN                   5.000000   \n",
       "25%              50.000000                NaN                  27.000000   \n",
       "50%              59.000000                NaN                  55.000000   \n",
       "75%              66.000000                NaN                  65.000000   \n",
       "max              96.000000                NaN                  93.000000   \n",
       "\n",
       "       defending_sliding_tackle  goalkeeping_diving  goalkeeping_handling  \\\n",
       "count              18944.000000        18944.000000          18944.000000   \n",
       "mean                  45.546505           16.446052             16.236486   \n",
       "std                   20.953997           17.577332             16.845480   \n",
       "min                    4.000000            1.000000              1.000000   \n",
       "25%                   24.000000            8.000000              8.000000   \n",
       "50%                   52.000000           11.000000             11.000000   \n",
       "75%                   63.000000           14.000000             14.000000   \n",
       "max                   90.000000           90.000000             92.000000   \n",
       "\n",
       "       goalkeeping_kicking  goalkeeping_positioning  goalkeeping_reflexes  \n",
       "count         18944.000000             18944.000000          18944.000000  \n",
       "mean             16.103357                16.225982             16.551309  \n",
       "std              16.519399                17.017341             17.878121  \n",
       "min               1.000000                 1.000000              1.000000  \n",
       "25%               8.000000                 8.000000              8.000000  \n",
       "50%              11.000000                11.000000             11.000000  \n",
       "75%              14.000000                14.000000             14.000000  \n",
       "max              93.000000                91.000000             90.000000  \n",
       "\n",
       "[8 rows x 62 columns]"
      ]
     },
     "execution_count": 53,
     "metadata": {},
     "output_type": "execute_result"
    }
   ],
   "source": [
    "df21.describe()"
   ]
  },
  {
   "cell_type": "code",
   "execution_count": 29,
   "id": "c5191456",
   "metadata": {},
   "outputs": [
    {
     "data": {
      "text/plain": [
       "Index(['sofifa_id', 'player_url', 'short_name', 'long_name', 'age', 'dob',\n",
       "       'height_cm', 'weight_kg', 'nationality', 'club_name',\n",
       "       ...\n",
       "       'lwb', 'ldm', 'cdm', 'rdm', 'rwb', 'lb', 'lcb', 'cb', 'rcb', 'rb'],\n",
       "      dtype='object', length=106)"
      ]
     },
     "execution_count": 29,
     "metadata": {},
     "output_type": "execute_result"
    }
   ],
   "source": [
    "df21.columns"
   ]
  },
  {
   "cell_type": "code",
   "execution_count": 30,
   "id": "85205d1b",
   "metadata": {},
   "outputs": [
    {
     "data": {
      "text/plain": [
       "Index(['sofifa_id', 'player_url', 'short_name', 'long_name', 'age', 'dob',\n",
       "       'height_cm', 'weight_kg', 'nationality', 'club_name',\n",
       "       ...\n",
       "       'lwb', 'ldm', 'cdm', 'rdm', 'rwb', 'lb', 'lcb', 'cb', 'rcb', 'rb'],\n",
       "      dtype='object', length=106)"
      ]
     },
     "execution_count": 30,
     "metadata": {},
     "output_type": "execute_result"
    }
   ],
   "source": [
    "df21.columns.str.strip()"
   ]
  },
  {
   "cell_type": "code",
   "execution_count": 42,
   "id": "13402ac4",
   "metadata": {},
   "outputs": [
    {
     "data": {
      "text/plain": [
       "np.int64(217921)"
      ]
     },
     "execution_count": 42,
     "metadata": {},
     "output_type": "execute_result"
    }
   ],
   "source": [
    "df21.isnull().sum().sum()"
   ]
  },
  {
   "cell_type": "code",
   "execution_count": 44,
   "id": "39e367bf",
   "metadata": {},
   "outputs": [
    {
     "data": {
      "text/plain": [
       "sofifa_id      int64\n",
       "player_url    object\n",
       "short_name    object\n",
       "long_name     object\n",
       "age            int64\n",
       "               ...  \n",
       "lb            object\n",
       "lcb           object\n",
       "cb            object\n",
       "rcb           object\n",
       "rb            object\n",
       "Length: 106, dtype: object"
      ]
     },
     "execution_count": 44,
     "metadata": {},
     "output_type": "execute_result"
    }
   ],
   "source": [
    "df21.dtypes"
   ]
  },
  {
   "cell_type": "code",
   "execution_count": 51,
   "id": "52d50071",
   "metadata": {},
   "outputs": [
    {
     "name": "stdout",
     "output_type": "stream",
     "text": [
      "club_name 225 object\n",
      "league_name 225 object\n",
      "league_rank 225 float64\n",
      "release_clause_eur 995 float64\n",
      "player_tags 17536 object\n",
      "team_position 225 object\n",
      "team_jersey_number 225 float64\n",
      "loaned_from 18186 object\n",
      "joined 983 object\n",
      "contract_valid_until 225 float64\n",
      "nation_position 17817 object\n",
      "nation_jersey_number 17817 float64\n",
      "pace 2083 float64\n",
      "shooting 2083 float64\n",
      "passing 2083 float64\n",
      "dribbling 2083 float64\n",
      "defending 2083 float64\n",
      "physic 2083 float64\n",
      "gk_diving 16861 float64\n",
      "gk_handling 16861 float64\n",
      "gk_kicking 16861 float64\n",
      "gk_reflexes 16861 float64\n",
      "gk_speed 16861 float64\n",
      "gk_positioning 16861 float64\n",
      "player_traits 10629 object\n",
      "defending_marking 18944 float64\n"
     ]
    }
   ],
   "source": [
    "for col in df21.columns:\n",
    "    if(df21[col].isnull().sum()!=0):\n",
    "        print(col,df21[col].isnull().sum(),df21[col].dtype)"
   ]
  },
  {
   "cell_type": "code",
   "execution_count": 52,
   "id": "5f52c3d0",
   "metadata": {},
   "outputs": [
    {
     "data": {
      "text/plain": [
       "np.int64(0)"
      ]
     },
     "execution_count": 52,
     "metadata": {},
     "output_type": "execute_result"
    }
   ],
   "source": [
    "df21.duplicated().sum()"
   ]
  },
  {
   "cell_type": "code",
   "execution_count": 62,
   "id": "7b7134c2",
   "metadata": {},
   "outputs": [
    {
     "data": {
      "text/plain": [
       "681"
      ]
     },
     "execution_count": 62,
     "metadata": {},
     "output_type": "execute_result"
    }
   ],
   "source": [
    "df21['club_name'].nunique()"
   ]
  },
  {
   "cell_type": "code",
   "execution_count": 63,
   "id": "9af45e22",
   "metadata": {},
   "outputs": [
    {
     "data": {
      "text/plain": [
       "162"
      ]
     },
     "execution_count": 63,
     "metadata": {},
     "output_type": "execute_result"
    }
   ],
   "source": [
    "df21['nationality'].nunique()"
   ]
  },
  {
   "cell_type": "code",
   "execution_count": 67,
   "id": "aace79b5",
   "metadata": {},
   "outputs": [
    {
     "data": {
      "text/plain": [
       "0    England\n",
       "Name: nationality, dtype: object"
      ]
     },
     "execution_count": 67,
     "metadata": {},
     "output_type": "execute_result"
    }
   ],
   "source": [
    "df21['nationality'].mode()"
   ]
  },
  {
   "cell_type": "code",
   "execution_count": 74,
   "id": "8b6e5a8b",
   "metadata": {},
   "outputs": [
    {
     "data": {
      "text/html": [
       "<div>\n",
       "<style scoped>\n",
       "    .dataframe tbody tr th:only-of-type {\n",
       "        vertical-align: middle;\n",
       "    }\n",
       "\n",
       "    .dataframe tbody tr th {\n",
       "        vertical-align: top;\n",
       "    }\n",
       "\n",
       "    .dataframe thead th {\n",
       "        text-align: right;\n",
       "    }\n",
       "</style>\n",
       "<table border=\"1\" class=\"dataframe\">\n",
       "  <thead>\n",
       "    <tr style=\"text-align: right;\">\n",
       "      <th></th>\n",
       "      <th>sofifa_id</th>\n",
       "      <th>player_url</th>\n",
       "      <th>short_name</th>\n",
       "      <th>long_name</th>\n",
       "      <th>age</th>\n",
       "      <th>dob</th>\n",
       "      <th>height_cm</th>\n",
       "      <th>weight_kg</th>\n",
       "      <th>nationality</th>\n",
       "      <th>club_name</th>\n",
       "      <th>...</th>\n",
       "      <th>lwb</th>\n",
       "      <th>ldm</th>\n",
       "      <th>cdm</th>\n",
       "      <th>rdm</th>\n",
       "      <th>rwb</th>\n",
       "      <th>lb</th>\n",
       "      <th>lcb</th>\n",
       "      <th>cb</th>\n",
       "      <th>rcb</th>\n",
       "      <th>rb</th>\n",
       "    </tr>\n",
       "  </thead>\n",
       "  <tbody>\n",
       "    <tr>\n",
       "      <th>0</th>\n",
       "      <td>158023</td>\n",
       "      <td>https://sofifa.com/player/158023/lionel-messi/...</td>\n",
       "      <td>L. Messi</td>\n",
       "      <td>Lionel Andrés Messi Cuccittini</td>\n",
       "      <td>33</td>\n",
       "      <td>1987-06-24</td>\n",
       "      <td>170</td>\n",
       "      <td>72</td>\n",
       "      <td>Argentina</td>\n",
       "      <td>FC Barcelona</td>\n",
       "      <td>...</td>\n",
       "      <td>66+3</td>\n",
       "      <td>65+3</td>\n",
       "      <td>65+3</td>\n",
       "      <td>65+3</td>\n",
       "      <td>66+3</td>\n",
       "      <td>62+3</td>\n",
       "      <td>52+3</td>\n",
       "      <td>52+3</td>\n",
       "      <td>52+3</td>\n",
       "      <td>62+3</td>\n",
       "    </tr>\n",
       "  </tbody>\n",
       "</table>\n",
       "<p>1 rows × 106 columns</p>\n",
       "</div>"
      ],
      "text/plain": [
       "   sofifa_id                                         player_url short_name  \\\n",
       "0     158023  https://sofifa.com/player/158023/lionel-messi/...   L. Messi   \n",
       "\n",
       "                        long_name  age         dob  height_cm  weight_kg  \\\n",
       "0  Lionel Andrés Messi Cuccittini   33  1987-06-24        170         72   \n",
       "\n",
       "  nationality     club_name  ...   lwb   ldm   cdm   rdm   rwb    lb   lcb  \\\n",
       "0   Argentina  FC Barcelona  ...  66+3  65+3  65+3  65+3  66+3  62+3  52+3   \n",
       "\n",
       "     cb   rcb    rb  \n",
       "0  52+3  52+3  62+3  \n",
       "\n",
       "[1 rows x 106 columns]"
      ]
     },
     "execution_count": 74,
     "metadata": {},
     "output_type": "execute_result"
    }
   ],
   "source": [
    "df21[df21['overall'] == df21['overall'].max()]"
   ]
  },
  {
   "cell_type": "code",
   "execution_count": 77,
   "id": "17fff253",
   "metadata": {},
   "outputs": [
    {
     "name": "stdout",
     "output_type": "stream",
     "text": [
      "['L. Messi']\n"
     ]
    }
   ],
   "source": [
    "top_players = df21[df21['overall'] == df21['overall'].max()]['short_name']\n",
    "print(top_players.tolist())"
   ]
  },
  {
   "cell_type": "markdown",
   "id": "c126f158",
   "metadata": {},
   "source": [
    "Part 2 – EDA (Exploratory Data Analysis)\n",
    "Plot a histogram of player ages.\n",
    "Find the top 10 players by overall rating.\n",
    "Average player age per club.\n",
    "Scatter plot: overall vs potential.\n",
    "Bar chart of average wage by nationality (top 10).\n",
    "Boxplot of overall ratings grouped by position.\n",
    "Find the top 10 players with the highest market value.\n"
   ]
  },
  {
   "cell_type": "code",
   "execution_count": 81,
   "id": "2b050c7c",
   "metadata": {},
   "outputs": [
    {
     "data": {
      "image/png": "[encoded data removed]",
      "text/plain": [
       "<Figure size 640x480 with 1 Axes>"
      ]
     },
     "metadata": {},
     "output_type": "display_data"
    }
   ],
   "source": [
    "plt.hist(df21['age'])\n",
    "plt.show()"
   ]
  },
  {
   "cell_type": "code",
   "execution_count": 85,
   "id": "3e8aeba6",
   "metadata": {},
   "outputs": [
    {
     "data": {
      "text/html": [
       "<div>\n",
       "<style scoped>\n",
       "    .dataframe tbody tr th:only-of-type {\n",
       "        vertical-align: middle;\n",
       "    }\n",
       "\n",
       "    .dataframe tbody tr th {\n",
       "        vertical-align: top;\n",
       "    }\n",
       "\n",
       "    .dataframe thead th {\n",
       "        text-align: right;\n",
       "    }\n",
       "</style>\n",
       "<table border=\"1\" class=\"dataframe\">\n",
       "  <thead>\n",
       "    <tr style=\"text-align: right;\">\n",
       "      <th></th>\n",
       "      <th>sofifa_id</th>\n",
       "      <th>player_url</th>\n",
       "      <th>short_name</th>\n",
       "      <th>long_name</th>\n",
       "      <th>age</th>\n",
       "      <th>dob</th>\n",
       "      <th>height_cm</th>\n",
       "      <th>weight_kg</th>\n",
       "      <th>nationality</th>\n",
       "      <th>club_name</th>\n",
       "      <th>...</th>\n",
       "      <th>lwb</th>\n",
       "      <th>ldm</th>\n",
       "      <th>cdm</th>\n",
       "      <th>rdm</th>\n",
       "      <th>rwb</th>\n",
       "      <th>lb</th>\n",
       "      <th>lcb</th>\n",
       "      <th>cb</th>\n",
       "      <th>rcb</th>\n",
       "      <th>rb</th>\n",
       "    </tr>\n",
       "  </thead>\n",
       "  <tbody>\n",
       "    <tr>\n",
       "      <th>0</th>\n",
       "      <td>158023</td>\n",
       "      <td>https://sofifa.com/player/158023/lionel-messi/...</td>\n",
       "      <td>L. Messi</td>\n",
       "      <td>Lionel Andrés Messi Cuccittini</td>\n",
       "      <td>33</td>\n",
       "      <td>1987-06-24</td>\n",
       "      <td>170</td>\n",
       "      <td>72</td>\n",
       "      <td>Argentina</td>\n",
       "      <td>FC Barcelona</td>\n",
       "      <td>...</td>\n",
       "      <td>66+3</td>\n",
       "      <td>65+3</td>\n",
       "      <td>65+3</td>\n",
       "      <td>65+3</td>\n",
       "      <td>66+3</td>\n",
       "      <td>62+3</td>\n",
       "      <td>52+3</td>\n",
       "      <td>52+3</td>\n",
       "      <td>52+3</td>\n",
       "      <td>62+3</td>\n",
       "    </tr>\n",
       "    <tr>\n",
       "      <th>1</th>\n",
       "      <td>20801</td>\n",
       "      <td>https://sofifa.com/player/20801/c-ronaldo-dos-...</td>\n",
       "      <td>Cristiano Ronaldo</td>\n",
       "      <td>Cristiano Ronaldo dos Santos Aveiro</td>\n",
       "      <td>35</td>\n",
       "      <td>1985-02-05</td>\n",
       "      <td>187</td>\n",
       "      <td>83</td>\n",
       "      <td>Portugal</td>\n",
       "      <td>Juventus</td>\n",
       "      <td>...</td>\n",
       "      <td>65+3</td>\n",
       "      <td>61+3</td>\n",
       "      <td>61+3</td>\n",
       "      <td>61+3</td>\n",
       "      <td>65+3</td>\n",
       "      <td>61+3</td>\n",
       "      <td>54+3</td>\n",
       "      <td>54+3</td>\n",
       "      <td>54+3</td>\n",
       "      <td>61+3</td>\n",
       "    </tr>\n",
       "    <tr>\n",
       "      <th>2</th>\n",
       "      <td>200389</td>\n",
       "      <td>https://sofifa.com/player/200389/jan-oblak/210002</td>\n",
       "      <td>J. Oblak</td>\n",
       "      <td>Jan Oblak</td>\n",
       "      <td>27</td>\n",
       "      <td>1993-01-07</td>\n",
       "      <td>188</td>\n",
       "      <td>87</td>\n",
       "      <td>Slovenia</td>\n",
       "      <td>Atlético Madrid</td>\n",
       "      <td>...</td>\n",
       "      <td>32+3</td>\n",
       "      <td>36+3</td>\n",
       "      <td>36+3</td>\n",
       "      <td>36+3</td>\n",
       "      <td>32+3</td>\n",
       "      <td>32+3</td>\n",
       "      <td>33+3</td>\n",
       "      <td>33+3</td>\n",
       "      <td>33+3</td>\n",
       "      <td>32+3</td>\n",
       "    </tr>\n",
       "    <tr>\n",
       "      <th>3</th>\n",
       "      <td>188545</td>\n",
       "      <td>https://sofifa.com/player/188545/robert-lewand...</td>\n",
       "      <td>R. Lewandowski</td>\n",
       "      <td>Robert Lewandowski</td>\n",
       "      <td>31</td>\n",
       "      <td>1988-08-21</td>\n",
       "      <td>184</td>\n",
       "      <td>80</td>\n",
       "      <td>Poland</td>\n",
       "      <td>FC Bayern München</td>\n",
       "      <td>...</td>\n",
       "      <td>64+3</td>\n",
       "      <td>65+3</td>\n",
       "      <td>65+3</td>\n",
       "      <td>65+3</td>\n",
       "      <td>64+3</td>\n",
       "      <td>61+3</td>\n",
       "      <td>60+3</td>\n",
       "      <td>60+3</td>\n",
       "      <td>60+3</td>\n",
       "      <td>61+3</td>\n",
       "    </tr>\n",
       "    <tr>\n",
       "      <th>4</th>\n",
       "      <td>190871</td>\n",
       "      <td>https://sofifa.com/player/190871/neymar-da-sil...</td>\n",
       "      <td>Neymar Jr</td>\n",
       "      <td>Neymar da Silva Santos Júnior</td>\n",
       "      <td>28</td>\n",
       "      <td>1992-02-05</td>\n",
       "      <td>175</td>\n",
       "      <td>68</td>\n",
       "      <td>Brazil</td>\n",
       "      <td>Paris Saint-Germain</td>\n",
       "      <td>...</td>\n",
       "      <td>67+3</td>\n",
       "      <td>62+3</td>\n",
       "      <td>62+3</td>\n",
       "      <td>62+3</td>\n",
       "      <td>67+3</td>\n",
       "      <td>62+3</td>\n",
       "      <td>49+3</td>\n",
       "      <td>49+3</td>\n",
       "      <td>49+3</td>\n",
       "      <td>62+3</td>\n",
       "    </tr>\n",
       "    <tr>\n",
       "      <th>5</th>\n",
       "      <td>192985</td>\n",
       "      <td>https://sofifa.com/player/192985/kevin-de-bruy...</td>\n",
       "      <td>K. De Bruyne</td>\n",
       "      <td>Kevin De Bruyne</td>\n",
       "      <td>29</td>\n",
       "      <td>1991-06-28</td>\n",
       "      <td>181</td>\n",
       "      <td>70</td>\n",
       "      <td>Belgium</td>\n",
       "      <td>Manchester City</td>\n",
       "      <td>...</td>\n",
       "      <td>79+3</td>\n",
       "      <td>80+3</td>\n",
       "      <td>80+3</td>\n",
       "      <td>80+3</td>\n",
       "      <td>79+3</td>\n",
       "      <td>75+3</td>\n",
       "      <td>69+3</td>\n",
       "      <td>69+3</td>\n",
       "      <td>69+3</td>\n",
       "      <td>75+3</td>\n",
       "    </tr>\n",
       "    <tr>\n",
       "      <th>6</th>\n",
       "      <td>231747</td>\n",
       "      <td>https://sofifa.com/player/231747/kylian-mbappe...</td>\n",
       "      <td>K. Mbappé</td>\n",
       "      <td>Kylian Mbappé Lottin</td>\n",
       "      <td>21</td>\n",
       "      <td>1998-12-20</td>\n",
       "      <td>178</td>\n",
       "      <td>73</td>\n",
       "      <td>France</td>\n",
       "      <td>Paris Saint-Germain</td>\n",
       "      <td>...</td>\n",
       "      <td>67+3</td>\n",
       "      <td>63+3</td>\n",
       "      <td>63+3</td>\n",
       "      <td>63+3</td>\n",
       "      <td>67+3</td>\n",
       "      <td>63+3</td>\n",
       "      <td>55+3</td>\n",
       "      <td>55+3</td>\n",
       "      <td>55+3</td>\n",
       "      <td>63+3</td>\n",
       "    </tr>\n",
       "    <tr>\n",
       "      <th>7</th>\n",
       "      <td>192448</td>\n",
       "      <td>https://sofifa.com/player/192448/marc-andre-te...</td>\n",
       "      <td>M. ter Stegen</td>\n",
       "      <td>Marc-André ter Stegen</td>\n",
       "      <td>28</td>\n",
       "      <td>1992-04-30</td>\n",
       "      <td>187</td>\n",
       "      <td>85</td>\n",
       "      <td>Germany</td>\n",
       "      <td>FC Barcelona</td>\n",
       "      <td>...</td>\n",
       "      <td>33+3</td>\n",
       "      <td>41+3</td>\n",
       "      <td>41+3</td>\n",
       "      <td>41+3</td>\n",
       "      <td>33+3</td>\n",
       "      <td>31+3</td>\n",
       "      <td>33+3</td>\n",
       "      <td>33+3</td>\n",
       "      <td>33+3</td>\n",
       "      <td>31+3</td>\n",
       "    </tr>\n",
       "    <tr>\n",
       "      <th>8</th>\n",
       "      <td>203376</td>\n",
       "      <td>https://sofifa.com/player/203376/virgil-van-di...</td>\n",
       "      <td>V. van Dijk</td>\n",
       "      <td>Virgil van Dijk</td>\n",
       "      <td>28</td>\n",
       "      <td>1991-07-08</td>\n",
       "      <td>193</td>\n",
       "      <td>92</td>\n",
       "      <td>Netherlands</td>\n",
       "      <td>Liverpool</td>\n",
       "      <td>...</td>\n",
       "      <td>80+3</td>\n",
       "      <td>85+3</td>\n",
       "      <td>85+3</td>\n",
       "      <td>85+3</td>\n",
       "      <td>80+3</td>\n",
       "      <td>82+3</td>\n",
       "      <td>89+2</td>\n",
       "      <td>89+2</td>\n",
       "      <td>89+2</td>\n",
       "      <td>82+3</td>\n",
       "    </tr>\n",
       "    <tr>\n",
       "      <th>9</th>\n",
       "      <td>212831</td>\n",
       "      <td>https://sofifa.com/player/212831/alisson-ramse...</td>\n",
       "      <td>Alisson</td>\n",
       "      <td>Alisson Ramsés Becker</td>\n",
       "      <td>27</td>\n",
       "      <td>1992-10-02</td>\n",
       "      <td>191</td>\n",
       "      <td>91</td>\n",
       "      <td>Brazil</td>\n",
       "      <td>Liverpool</td>\n",
       "      <td>...</td>\n",
       "      <td>31+3</td>\n",
       "      <td>35+3</td>\n",
       "      <td>35+3</td>\n",
       "      <td>35+3</td>\n",
       "      <td>31+3</td>\n",
       "      <td>30+3</td>\n",
       "      <td>30+3</td>\n",
       "      <td>30+3</td>\n",
       "      <td>30+3</td>\n",
       "      <td>30+3</td>\n",
       "    </tr>\n",
       "  </tbody>\n",
       "</table>\n",
       "<p>10 rows × 106 columns</p>\n",
       "</div>"
      ],
      "text/plain": [
       "   sofifa_id                                         player_url  \\\n",
       "0     158023  https://sofifa.com/player/158023/lionel-messi/...   \n",
       "1      20801  https://sofifa.com/player/20801/c-ronaldo-dos-...   \n",
       "2     200389  https://sofifa.com/player/200389/jan-oblak/210002   \n",
       "3     188545  https://sofifa.com/player/188545/robert-lewand...   \n",
       "4     190871  https://sofifa.com/player/190871/neymar-da-sil...   \n",
       "5     192985  https://sofifa.com/player/192985/kevin-de-bruy...   \n",
       "6     231747  https://sofifa.com/player/231747/kylian-mbappe...   \n",
       "7     192448  https://sofifa.com/player/192448/marc-andre-te...   \n",
       "8     203376  https://sofifa.com/player/203376/virgil-van-di...   \n",
       "9     212831  https://sofifa.com/player/212831/alisson-ramse...   \n",
       "\n",
       "          short_name                            long_name  age         dob  \\\n",
       "0           L. Messi       Lionel Andrés Messi Cuccittini   33  1987-06-24   \n",
       "1  Cristiano Ronaldo  Cristiano Ronaldo dos Santos Aveiro   35  1985-02-05   \n",
       "2           J. Oblak                            Jan Oblak   27  1993-01-07   \n",
       "3     R. Lewandowski                   Robert Lewandowski   31  1988-08-21   \n",
       "4          Neymar Jr        Neymar da Silva Santos Júnior   28  1992-02-05   \n",
       "5       K. De Bruyne                      Kevin De Bruyne   29  1991-06-28   \n",
       "6          K. Mbappé                 Kylian Mbappé Lottin   21  1998-12-20   \n",
       "7      M. ter Stegen                Marc-André ter Stegen   28  1992-04-30   \n",
       "8        V. van Dijk                      Virgil van Dijk   28  1991-07-08   \n",
       "9            Alisson                Alisson Ramsés Becker   27  1992-10-02   \n",
       "\n",
       "   height_cm  weight_kg  nationality            club_name  ...   lwb   ldm  \\\n",
       "0        170         72    Argentina         FC Barcelona  ...  66+3  65+3   \n",
       "1        187         83     Portugal             Juventus  ...  65+3  61+3   \n",
       "2        188         87     Slovenia      Atlético Madrid  ...  32+3  36+3   \n",
       "3        184         80       Poland    FC Bayern München  ...  64+3  65+3   \n",
       "4        175         68       Brazil  Paris Saint-Germain  ...  67+3  62+3   \n",
       "5        181         70      Belgium      Manchester City  ...  79+3  80+3   \n",
       "6        178         73       France  Paris Saint-Germain  ...  67+3  63+3   \n",
       "7        187         85      Germany         FC Barcelona  ...  33+3  41+3   \n",
       "8        193         92  Netherlands            Liverpool  ...  80+3  85+3   \n",
       "9        191         91       Brazil            Liverpool  ...  31+3  35+3   \n",
       "\n",
       "    cdm   rdm   rwb    lb   lcb    cb   rcb    rb  \n",
       "0  65+3  65+3  66+3  62+3  52+3  52+3  52+3  62+3  \n",
       "1  61+3  61+3  65+3  61+3  54+3  54+3  54+3  61+3  \n",
       "2  36+3  36+3  32+3  32+3  33+3  33+3  33+3  32+3  \n",
       "3  65+3  65+3  64+3  61+3  60+3  60+3  60+3  61+3  \n",
       "4  62+3  62+3  67+3  62+3  49+3  49+3  49+3  62+3  \n",
       "5  80+3  80+3  79+3  75+3  69+3  69+3  69+3  75+3  \n",
       "6  63+3  63+3  67+3  63+3  55+3  55+3  55+3  63+3  \n",
       "7  41+3  41+3  33+3  31+3  33+3  33+3  33+3  31+3  \n",
       "8  85+3  85+3  80+3  82+3  89+2  89+2  89+2  82+3  \n",
       "9  35+3  35+3  31+3  30+3  30+3  30+3  30+3  30+3  \n",
       "\n",
       "[10 rows x 106 columns]"
      ]
     },
     "execution_count": 85,
     "metadata": {},
     "output_type": "execute_result"
    }
   ],
   "source": [
    "top10 = df21.sort_values(by='overall', ascending=False).head(10)\n",
    "top10.head(10)"
   ]
  },
  {
   "cell_type": "code",
   "execution_count": 87,
   "id": "05dab18d",
   "metadata": {},
   "outputs": [
    {
     "data": {
      "text/plain": [
       "club_name\n",
       "1. FC Heidenheim 1846    24.533333\n",
       "1. FC Kaiserslautern     23.892857\n",
       "1. FC Köln               24.266667\n",
       "1. FC Magdeburg          24.222222\n",
       "1. FC Nürnberg           24.800000\n",
       "                           ...    \n",
       "Zamora FC                24.392857\n",
       "Çaykur Rizespor          26.666667\n",
       "Örebro SK                25.423077\n",
       "Östersunds FK            23.851852\n",
       "Śląsk Wrocław            25.925926\n",
       "Name: age, Length: 681, dtype: float64"
      ]
     },
     "execution_count": 87,
     "metadata": {},
     "output_type": "execute_result"
    }
   ],
   "source": [
    "df21.groupby('club_name')['age'].mean()"
   ]
  },
  {
   "cell_type": "code",
   "execution_count": 89,
   "id": "3083fc89",
   "metadata": {},
   "outputs": [
    {
     "data": {
      "text/plain": [
       "<matplotlib.collections.PathCollection at 0x20795c9a600>"
      ]
     },
     "execution_count": 89,
     "metadata": {},
     "output_type": "execute_result"
    },
    {
     "data": {
      "image/png": "[encoded data removed]",
      "text/plain": [
       "<Figure size 640x480 with 1 Axes>"
      ]
     },
     "metadata": {},
     "output_type": "display_data"
    }
   ],
   "source": [
    "plt.scatter(df21['overall'],df21['potential'])"
   ]
  },
  {
   "cell_type": "code",
   "execution_count": null,
   "id": "62cb272e",
   "metadata": {},
   "outputs": [
    {
     "data": {
      "image/png": "[encoded data removed]",
      "text/plain": [
       "<Figure size 640x480 with 1 Axes>"
      ]
     },
     "metadata": {},
     "output_type": "display_data"
    }
   ],
   "source": [
    "top10 = (\n",
    "    df21.groupby('nationality')['wage_eur']\n",
    "    .mean()\n",
    "    .sort_values(ascending=False)\n",
    "    .head(10)\n",
    "    .reset_index()\n",
    ")\n",
    "plt.bar(top10['nationality'],top10['wage_eur'])\n",
    "plt.xticks(rotation=90)\n",
    "plt.ylabel(\"Average Wage (€)\")\n",
    "plt.title(\"Top 10 Nationalities by Average Wage\")\n",
    "plt.show()"
   ]
  },
  {
   "cell_type": "code",
   "execution_count": 102,
   "id": "9f6d08c4",
   "metadata": {},
   "outputs": [
    {
     "data": {
      "image/png": "[encoded data removed]",
      "text/plain": [
       "<Figure size 1200x600 with 1 Axes>"
      ]
     },
     "metadata": {},
     "output_type": "display_data"
    }
   ],
   "source": [
    "df21['primary_position'] = df21['player_positions'].str.split(',').str[0]\n",
    "plt.figure(figsize=(12, 6))\n",
    "sns.boxplot(x='primary_position', y='overall', data=df21, order=\n",
    "            df21.groupby('primary_position')['overall'].median().sort_values(ascending=False).index)\n",
    "plt.xticks(rotation=45)\n",
    "plt.title(\"Distribution of Overall Ratings by Primary Position\")\n",
    "plt.show()"
   ]
  },
  {
   "cell_type": "code",
   "execution_count": 110,
   "id": "ebb464b1",
   "metadata": {},
   "outputs": [
    {
     "data": {
      "text/plain": [
       "6          K. Mbappé\n",
       "4          Neymar Jr\n",
       "5       K. De Bruyne\n",
       "3     R. Lewandowski\n",
       "11          M. Salah\n",
       "10           S. Mané\n",
       "8        V. van Dijk\n",
       "2           J. Oblak\n",
       "19       R. Sterling\n",
       "22         P. Dybala\n",
       "Name: short_name, dtype: object"
      ]
     },
     "execution_count": 110,
     "metadata": {},
     "output_type": "execute_result"
    }
   ],
   "source": [
    "top10=df21.sort_values(by='value_eur',ascending=False)\n",
    "top10['short_name'].head(10)"
   ]
  },
  {
   "cell_type": "markdown",
   "id": "0a02e7c2",
   "metadata": {},
   "source": [
    "Part 3 – Statistics\n",
    "Calculate the mean, median, and mode of overall.\n",
    "Find variance and standard deviation of overall.\n",
    "Correlation between age and overall rating.\n",
    "Percentage of players with potential > 85.\n"
   ]
  },
  {
   "cell_type": "code",
   "execution_count": 111,
   "id": "75963b9b",
   "metadata": {},
   "outputs": [
    {
     "data": {
      "text/plain": [
       "np.float64(65.67778716216216)"
      ]
     },
     "execution_count": 111,
     "metadata": {},
     "output_type": "execute_result"
    }
   ],
   "source": [
    "df21['overall'].mean()"
   ]
  },
  {
   "cell_type": "code",
   "execution_count": 112,
   "id": "ea224496",
   "metadata": {},
   "outputs": [
    {
     "data": {
      "text/plain": [
       "np.float64(66.0)"
      ]
     },
     "execution_count": 112,
     "metadata": {},
     "output_type": "execute_result"
    }
   ],
   "source": [
    "df21['overall'].median()"
   ]
  },
  {
   "cell_type": "code",
   "execution_count": 113,
   "id": "4b4e4ed3",
   "metadata": {},
   "outputs": [
    {
     "data": {
      "text/plain": [
       "0    65\n",
       "Name: overall, dtype: int64"
      ]
     },
     "execution_count": 113,
     "metadata": {},
     "output_type": "execute_result"
    }
   ],
   "source": [
    "df21['overall'].mode()"
   ]
  },
  {
   "cell_type": "code",
   "execution_count": 114,
   "id": "3e3257ee",
   "metadata": {},
   "outputs": [
    {
     "data": {
      "text/plain": [
       "np.float64(49.031896364769985)"
      ]
     },
     "execution_count": 114,
     "metadata": {},
     "output_type": "execute_result"
    }
   ],
   "source": [
    "df21['overall'].var()"
   ]
  },
  {
   "cell_type": "code",
   "execution_count": 118,
   "id": "2fb8e08e",
   "metadata": {},
   "outputs": [
    {
     "data": {
      "text/plain": [
       "np.float64(7.002277941125301)"
      ]
     },
     "execution_count": 118,
     "metadata": {},
     "output_type": "execute_result"
    }
   ],
   "source": [
    "df21['overall'].std()"
   ]
  },
  {
   "cell_type": "code",
   "execution_count": 120,
   "id": "7e57d3ae",
   "metadata": {},
   "outputs": [
    {
     "data": {
      "text/plain": [
       "np.float64(0.46819673362728526)"
      ]
     },
     "execution_count": 120,
     "metadata": {},
     "output_type": "execute_result"
    }
   ],
   "source": [
    "df21['age'].corr(df21['overall'])"
   ]
  },
  {
   "cell_type": "code",
   "execution_count": 122,
   "id": "effd0bb1",
   "metadata": {},
   "outputs": [
    {
     "name": "stdout",
     "output_type": "stream",
     "text": [
      "1.37%\n"
     ]
    }
   ],
   "source": [
    "percentage = (df21['potential'] > 85).mean() * 100\n",
    "print(f\"{percentage:.2f}%\")"
   ]
  },
  {
   "cell_type": "markdown",
   "id": "2ef8fd36",
   "metadata": {},
   "source": [
    "Part 4 – Linear Algebra & NumPy\n",
    "Create NumPy arrays for overall and potential.\n",
    "Perform vector subtraction (potential - overall).\n",
    "Compute the dot product between these arrays.\n",
    "Normalize the overall array using vector normalization.\n"
   ]
  },
  {
   "cell_type": "code",
   "execution_count": null,
   "id": "b770494f",
   "metadata": {},
   "outputs": [
    {
     "data": {
      "text/plain": [
       "array([93, 92, 91, ..., 47, 47, 47], shape=(18944,))"
      ]
     },
     "execution_count": 129,
     "metadata": {},
     "output_type": "execute_result"
    }
   ],
   "source": [
    "overall=np.array(df21['overall'])\n",
    "potential=np.array(df21['potential'])"
   ]
  },
  {
   "cell_type": "code",
   "execution_count": 130,
   "id": "cabf66f1",
   "metadata": {},
   "outputs": [
    {
     "data": {
      "text/plain": [
       "array([0, 0, 2, ..., 4, 4, 0], shape=(18944,))"
      ]
     },
     "execution_count": 130,
     "metadata": {},
     "output_type": "execute_result"
    }
   ],
   "source": [
    "sub=np.subtract(potential,overall)\n",
    "sub"
   ]
  },
  {
   "cell_type": "code",
   "execution_count": 126,
   "id": "261e505c",
   "metadata": {},
   "outputs": [],
   "source": [
    "doti=np.dot(potential,overall)"
   ]
  },
  {
   "cell_type": "code",
   "execution_count": 131,
   "id": "b6e9ee34",
   "metadata": {},
   "outputs": [
    {
     "data": {
      "text/plain": [
       "array([0.01022997, 0.01011997, 0.01000997, ..., 0.00516998, 0.00516998,\n",
       "       0.00516998], shape=(18944,))"
      ]
     },
     "execution_count": 131,
     "metadata": {},
     "output_type": "execute_result"
    }
   ],
   "source": [
    "norm=np.linalg.norm(overall)\n",
    "n_o=overall/norm\n",
    "n_o"
   ]
  },
  {
   "cell_type": "markdown",
   "id": "1c8003ce",
   "metadata": {},
   "source": [
    "Part 5 – Calculus\n",
    "Assume:\n",
    " Performance_Score = (overall)^2 + 0.5×potential\n",
    " Find derivative wrt overall."
   ]
  },
  {
   "cell_type": "code",
   "execution_count": 132,
   "id": "dcee1441",
   "metadata": {},
   "outputs": [],
   "source": [
    "df21['derivative']=2*df21['overall']"
   ]
  },
  {
   "cell_type": "markdown",
   "id": "5b0b4d62",
   "metadata": {},
   "source": [
    "Part 6 – Feature Engineering\n",
    "Create is_elite = 1 if overall ≥ 85 else 0.\n",
    "Create value_million = value_eur / 1,000,000.\n",
    "Create wage_thousand = wage_eur / 1,000.\n",
    "Create a binary column high_growth = 1 if growth > 5 else 0.\n",
    "Extract the primary position from player_positions."
   ]
  },
  {
   "cell_type": "code",
   "execution_count": 136,
   "id": "34d2b434",
   "metadata": {},
   "outputs": [],
   "source": [
    "df21['is_elite'] = (df21['overall'] > 85).astype(int)\n"
   ]
  },
  {
   "cell_type": "code",
   "execution_count": 137,
   "id": "10931584",
   "metadata": {},
   "outputs": [],
   "source": [
    "df21['value_million']=df21['value_eur']/1000000"
   ]
  },
  {
   "cell_type": "code",
   "execution_count": 138,
   "id": "b170aea5",
   "metadata": {},
   "outputs": [],
   "source": [
    "df21['wage_thousand']=df21['wage_eur']/1000"
   ]
  },
  {
   "cell_type": "code",
   "execution_count": 139,
   "id": "7da54aa2",
   "metadata": {},
   "outputs": [],
   "source": [
    "df21['high_growth']=(df21['pace']>5).astype(int)"
   ]
  },
  {
   "cell_type": "code",
   "execution_count": 140,
   "id": "8d99de36",
   "metadata": {},
   "outputs": [
    {
     "data": {
      "text/plain": [
       "0                CF\n",
       "1            LW, LM\n",
       "2        RM, LM, RW\n",
       "3                ST\n",
       "4                GK\n",
       "            ...    \n",
       "15618            GK\n",
       "15619            CM\n",
       "15620            GK\n",
       "15621        LB, LM\n",
       "15622            GK\n",
       "Name: player_positions, Length: 31778, dtype: object"
      ]
     },
     "execution_count": 140,
     "metadata": {},
     "output_type": "execute_result"
    }
   ],
   "source": [
    "df['player_positions']"
   ]
  },
  {
   "cell_type": "markdown",
   "id": "d155b540",
   "metadata": {},
   "source": [
    "Part 7 – SQL Simulation in Pandas\n",
    "Select all players with overall > 85.\n",
    "Sort players by value_eur descending.\n",
    "Group by nationality and count players.\n",
    "Get top 5 clubs with highest average overall.\n",
    "Count players with “Forward” in player_positions.\n"
   ]
  },
  {
   "cell_type": "code",
   "execution_count": 141,
   "id": "30e477e3",
   "metadata": {},
   "outputs": [
    {
     "data": {
      "text/html": [
       "<div>\n",
       "<style scoped>\n",
       "    .dataframe tbody tr th:only-of-type {\n",
       "        vertical-align: middle;\n",
       "    }\n",
       "\n",
       "    .dataframe tbody tr th {\n",
       "        vertical-align: top;\n",
       "    }\n",
       "\n",
       "    .dataframe thead th {\n",
       "        text-align: right;\n",
       "    }\n",
       "</style>\n",
       "<table border=\"1\" class=\"dataframe\">\n",
       "  <thead>\n",
       "    <tr style=\"text-align: right;\">\n",
       "      <th></th>\n",
       "      <th>sofifa_id</th>\n",
       "      <th>player_url</th>\n",
       "      <th>short_name</th>\n",
       "      <th>long_name</th>\n",
       "      <th>age</th>\n",
       "      <th>dob</th>\n",
       "      <th>height_cm</th>\n",
       "      <th>weight_kg</th>\n",
       "      <th>nationality</th>\n",
       "      <th>club_name</th>\n",
       "      <th>...</th>\n",
       "      <th>lcb</th>\n",
       "      <th>cb</th>\n",
       "      <th>rcb</th>\n",
       "      <th>rb</th>\n",
       "      <th>primary_position</th>\n",
       "      <th>derivative</th>\n",
       "      <th>is_elite</th>\n",
       "      <th>value_million</th>\n",
       "      <th>wage_thousand</th>\n",
       "      <th>high_growth</th>\n",
       "    </tr>\n",
       "  </thead>\n",
       "  <tbody>\n",
       "    <tr>\n",
       "      <th>0</th>\n",
       "      <td>158023</td>\n",
       "      <td>https://sofifa.com/player/158023/lionel-messi/...</td>\n",
       "      <td>L. Messi</td>\n",
       "      <td>Lionel Andrés Messi Cuccittini</td>\n",
       "      <td>33</td>\n",
       "      <td>1987-06-24</td>\n",
       "      <td>170</td>\n",
       "      <td>72</td>\n",
       "      <td>Argentina</td>\n",
       "      <td>FC Barcelona</td>\n",
       "      <td>...</td>\n",
       "      <td>52+3</td>\n",
       "      <td>52+3</td>\n",
       "      <td>52+3</td>\n",
       "      <td>62+3</td>\n",
       "      <td>RW</td>\n",
       "      <td>2*overall</td>\n",
       "      <td>1</td>\n",
       "      <td>67.5</td>\n",
       "      <td>560.0</td>\n",
       "      <td>1</td>\n",
       "    </tr>\n",
       "    <tr>\n",
       "      <th>1</th>\n",
       "      <td>20801</td>\n",
       "      <td>https://sofifa.com/player/20801/c-ronaldo-dos-...</td>\n",
       "      <td>Cristiano Ronaldo</td>\n",
       "      <td>Cristiano Ronaldo dos Santos Aveiro</td>\n",
       "      <td>35</td>\n",
       "      <td>1985-02-05</td>\n",
       "      <td>187</td>\n",
       "      <td>83</td>\n",
       "      <td>Portugal</td>\n",
       "      <td>Juventus</td>\n",
       "      <td>...</td>\n",
       "      <td>54+3</td>\n",
       "      <td>54+3</td>\n",
       "      <td>54+3</td>\n",
       "      <td>61+3</td>\n",
       "      <td>ST</td>\n",
       "      <td>2*overall</td>\n",
       "      <td>1</td>\n",
       "      <td>46.0</td>\n",
       "      <td>220.0</td>\n",
       "      <td>1</td>\n",
       "    </tr>\n",
       "    <tr>\n",
       "      <th>2</th>\n",
       "      <td>200389</td>\n",
       "      <td>https://sofifa.com/player/200389/jan-oblak/210002</td>\n",
       "      <td>J. Oblak</td>\n",
       "      <td>Jan Oblak</td>\n",
       "      <td>27</td>\n",
       "      <td>1993-01-07</td>\n",
       "      <td>188</td>\n",
       "      <td>87</td>\n",
       "      <td>Slovenia</td>\n",
       "      <td>Atlético Madrid</td>\n",
       "      <td>...</td>\n",
       "      <td>33+3</td>\n",
       "      <td>33+3</td>\n",
       "      <td>33+3</td>\n",
       "      <td>32+3</td>\n",
       "      <td>GK</td>\n",
       "      <td>2*overall</td>\n",
       "      <td>1</td>\n",
       "      <td>75.0</td>\n",
       "      <td>125.0</td>\n",
       "      <td>0</td>\n",
       "    </tr>\n",
       "    <tr>\n",
       "      <th>3</th>\n",
       "      <td>188545</td>\n",
       "      <td>https://sofifa.com/player/188545/robert-lewand...</td>\n",
       "      <td>R. Lewandowski</td>\n",
       "      <td>Robert Lewandowski</td>\n",
       "      <td>31</td>\n",
       "      <td>1988-08-21</td>\n",
       "      <td>184</td>\n",
       "      <td>80</td>\n",
       "      <td>Poland</td>\n",
       "      <td>FC Bayern München</td>\n",
       "      <td>...</td>\n",
       "      <td>60+3</td>\n",
       "      <td>60+3</td>\n",
       "      <td>60+3</td>\n",
       "      <td>61+3</td>\n",
       "      <td>ST</td>\n",
       "      <td>2*overall</td>\n",
       "      <td>1</td>\n",
       "      <td>80.0</td>\n",
       "      <td>240.0</td>\n",
       "      <td>1</td>\n",
       "    </tr>\n",
       "    <tr>\n",
       "      <th>4</th>\n",
       "      <td>190871</td>\n",
       "      <td>https://sofifa.com/player/190871/neymar-da-sil...</td>\n",
       "      <td>Neymar Jr</td>\n",
       "      <td>Neymar da Silva Santos Júnior</td>\n",
       "      <td>28</td>\n",
       "      <td>1992-02-05</td>\n",
       "      <td>175</td>\n",
       "      <td>68</td>\n",
       "      <td>Brazil</td>\n",
       "      <td>Paris Saint-Germain</td>\n",
       "      <td>...</td>\n",
       "      <td>49+3</td>\n",
       "      <td>49+3</td>\n",
       "      <td>49+3</td>\n",
       "      <td>62+3</td>\n",
       "      <td>LW</td>\n",
       "      <td>2*overall</td>\n",
       "      <td>1</td>\n",
       "      <td>90.0</td>\n",
       "      <td>270.0</td>\n",
       "      <td>1</td>\n",
       "    </tr>\n",
       "    <tr>\n",
       "      <th>...</th>\n",
       "      <td>...</td>\n",
       "      <td>...</td>\n",
       "      <td>...</td>\n",
       "      <td>...</td>\n",
       "      <td>...</td>\n",
       "      <td>...</td>\n",
       "      <td>...</td>\n",
       "      <td>...</td>\n",
       "      <td>...</td>\n",
       "      <td>...</td>\n",
       "      <td>...</td>\n",
       "      <td>...</td>\n",
       "      <td>...</td>\n",
       "      <td>...</td>\n",
       "      <td>...</td>\n",
       "      <td>...</td>\n",
       "      <td>...</td>\n",
       "      <td>...</td>\n",
       "      <td>...</td>\n",
       "      <td>...</td>\n",
       "      <td>...</td>\n",
       "    </tr>\n",
       "    <tr>\n",
       "      <th>57</th>\n",
       "      <td>189332</td>\n",
       "      <td>https://sofifa.com/player/189332/jordi-alba-ra...</td>\n",
       "      <td>Jordi Alba</td>\n",
       "      <td>Jordi Alba Ramos</td>\n",
       "      <td>31</td>\n",
       "      <td>1989-03-21</td>\n",
       "      <td>170</td>\n",
       "      <td>68</td>\n",
       "      <td>Spain</td>\n",
       "      <td>FC Barcelona</td>\n",
       "      <td>...</td>\n",
       "      <td>77+3</td>\n",
       "      <td>77+3</td>\n",
       "      <td>77+3</td>\n",
       "      <td>82+3</td>\n",
       "      <td>LB</td>\n",
       "      <td>2*overall</td>\n",
       "      <td>1</td>\n",
       "      <td>32.0</td>\n",
       "      <td>220.0</td>\n",
       "      <td>1</td>\n",
       "    </tr>\n",
       "    <tr>\n",
       "      <th>58</th>\n",
       "      <td>189596</td>\n",
       "      <td>https://sofifa.com/player/189596/thomas-muller...</td>\n",
       "      <td>T. Müller</td>\n",
       "      <td>Thomas Müller</td>\n",
       "      <td>30</td>\n",
       "      <td>1989-09-13</td>\n",
       "      <td>186</td>\n",
       "      <td>75</td>\n",
       "      <td>Germany</td>\n",
       "      <td>FC Bayern München</td>\n",
       "      <td>...</td>\n",
       "      <td>63+3</td>\n",
       "      <td>63+3</td>\n",
       "      <td>63+3</td>\n",
       "      <td>69+3</td>\n",
       "      <td>CAM</td>\n",
       "      <td>2*overall</td>\n",
       "      <td>1</td>\n",
       "      <td>42.0</td>\n",
       "      <td>130.0</td>\n",
       "      <td>1</td>\n",
       "    </tr>\n",
       "    <tr>\n",
       "      <th>59</th>\n",
       "      <td>193080</td>\n",
       "      <td>https://sofifa.com/player/193080/david-de-gea-...</td>\n",
       "      <td>De Gea</td>\n",
       "      <td>David De Gea Quintana</td>\n",
       "      <td>29</td>\n",
       "      <td>1990-11-07</td>\n",
       "      <td>192</td>\n",
       "      <td>82</td>\n",
       "      <td>Spain</td>\n",
       "      <td>Manchester United</td>\n",
       "      <td>...</td>\n",
       "      <td>34+3</td>\n",
       "      <td>34+3</td>\n",
       "      <td>34+3</td>\n",
       "      <td>35+3</td>\n",
       "      <td>GK</td>\n",
       "      <td>2*overall</td>\n",
       "      <td>1</td>\n",
       "      <td>31.5</td>\n",
       "      <td>150.0</td>\n",
       "      <td>0</td>\n",
       "    </tr>\n",
       "    <tr>\n",
       "      <th>60</th>\n",
       "      <td>204963</td>\n",
       "      <td>https://sofifa.com/player/204963/daniel-carvaj...</td>\n",
       "      <td>Carvajal</td>\n",
       "      <td>Daniel Carvajal Ramos</td>\n",
       "      <td>28</td>\n",
       "      <td>1992-01-11</td>\n",
       "      <td>173</td>\n",
       "      <td>73</td>\n",
       "      <td>Spain</td>\n",
       "      <td>Real Madrid</td>\n",
       "      <td>...</td>\n",
       "      <td>81+3</td>\n",
       "      <td>81+3</td>\n",
       "      <td>81+3</td>\n",
       "      <td>83+3</td>\n",
       "      <td>RB</td>\n",
       "      <td>2*overall</td>\n",
       "      <td>1</td>\n",
       "      <td>38.0</td>\n",
       "      <td>230.0</td>\n",
       "      <td>1</td>\n",
       "    </tr>\n",
       "    <tr>\n",
       "      <th>61</th>\n",
       "      <td>208830</td>\n",
       "      <td>https://sofifa.com/player/208830/jamie-vardy/2...</td>\n",
       "      <td>J. Vardy</td>\n",
       "      <td>Jamie Vardy</td>\n",
       "      <td>33</td>\n",
       "      <td>1987-01-11</td>\n",
       "      <td>179</td>\n",
       "      <td>74</td>\n",
       "      <td>England</td>\n",
       "      <td>Leicester City</td>\n",
       "      <td>...</td>\n",
       "      <td>64+3</td>\n",
       "      <td>64+3</td>\n",
       "      <td>64+3</td>\n",
       "      <td>67+3</td>\n",
       "      <td>ST</td>\n",
       "      <td>2*overall</td>\n",
       "      <td>1</td>\n",
       "      <td>28.0</td>\n",
       "      <td>160.0</td>\n",
       "      <td>1</td>\n",
       "    </tr>\n",
       "  </tbody>\n",
       "</table>\n",
       "<p>62 rows × 112 columns</p>\n",
       "</div>"
      ],
      "text/plain": [
       "    sofifa_id                                         player_url  \\\n",
       "0      158023  https://sofifa.com/player/158023/lionel-messi/...   \n",
       "1       20801  https://sofifa.com/player/20801/c-ronaldo-dos-...   \n",
       "2      200389  https://sofifa.com/player/200389/jan-oblak/210002   \n",
       "3      188545  https://sofifa.com/player/188545/robert-lewand...   \n",
       "4      190871  https://sofifa.com/player/190871/neymar-da-sil...   \n",
       "..        ...                                                ...   \n",
       "57     189332  https://sofifa.com/player/189332/jordi-alba-ra...   \n",
       "58     189596  https://sofifa.com/player/189596/thomas-muller...   \n",
       "59     193080  https://sofifa.com/player/193080/david-de-gea-...   \n",
       "60     204963  https://sofifa.com/player/204963/daniel-carvaj...   \n",
       "61     208830  https://sofifa.com/player/208830/jamie-vardy/2...   \n",
       "\n",
       "           short_name                            long_name  age         dob  \\\n",
       "0            L. Messi       Lionel Andrés Messi Cuccittini   33  1987-06-24   \n",
       "1   Cristiano Ronaldo  Cristiano Ronaldo dos Santos Aveiro   35  1985-02-05   \n",
       "2            J. Oblak                            Jan Oblak   27  1993-01-07   \n",
       "3      R. Lewandowski                   Robert Lewandowski   31  1988-08-21   \n",
       "4           Neymar Jr        Neymar da Silva Santos Júnior   28  1992-02-05   \n",
       "..                ...                                  ...  ...         ...   \n",
       "57         Jordi Alba                     Jordi Alba Ramos   31  1989-03-21   \n",
       "58          T. Müller                        Thomas Müller   30  1989-09-13   \n",
       "59             De Gea                David De Gea Quintana   29  1990-11-07   \n",
       "60           Carvajal                Daniel Carvajal Ramos   28  1992-01-11   \n",
       "61           J. Vardy                          Jamie Vardy   33  1987-01-11   \n",
       "\n",
       "    height_cm  weight_kg nationality            club_name  ...   lcb    cb  \\\n",
       "0         170         72   Argentina         FC Barcelona  ...  52+3  52+3   \n",
       "1         187         83    Portugal             Juventus  ...  54+3  54+3   \n",
       "2         188         87    Slovenia      Atlético Madrid  ...  33+3  33+3   \n",
       "3         184         80      Poland    FC Bayern München  ...  60+3  60+3   \n",
       "4         175         68      Brazil  Paris Saint-Germain  ...  49+3  49+3   \n",
       "..        ...        ...         ...                  ...  ...   ...   ...   \n",
       "57        170         68       Spain         FC Barcelona  ...  77+3  77+3   \n",
       "58        186         75     Germany    FC Bayern München  ...  63+3  63+3   \n",
       "59        192         82       Spain    Manchester United  ...  34+3  34+3   \n",
       "60        173         73       Spain          Real Madrid  ...  81+3  81+3   \n",
       "61        179         74     England       Leicester City  ...  64+3  64+3   \n",
       "\n",
       "     rcb    rb  primary_position  derivative is_elite value_million  \\\n",
       "0   52+3  62+3                RW   2*overall        1          67.5   \n",
       "1   54+3  61+3                ST   2*overall        1          46.0   \n",
       "2   33+3  32+3                GK   2*overall        1          75.0   \n",
       "3   60+3  61+3                ST   2*overall        1          80.0   \n",
       "4   49+3  62+3                LW   2*overall        1          90.0   \n",
       "..   ...   ...               ...         ...      ...           ...   \n",
       "57  77+3  82+3                LB   2*overall        1          32.0   \n",
       "58  63+3  69+3               CAM   2*overall        1          42.0   \n",
       "59  34+3  35+3                GK   2*overall        1          31.5   \n",
       "60  81+3  83+3                RB   2*overall        1          38.0   \n",
       "61  64+3  67+3                ST   2*overall        1          28.0   \n",
       "\n",
       "    wage_thousand  high_growth  \n",
       "0           560.0            1  \n",
       "1           220.0            1  \n",
       "2           125.0            0  \n",
       "3           240.0            1  \n",
       "4           270.0            1  \n",
       "..            ...          ...  \n",
       "57          220.0            1  \n",
       "58          130.0            1  \n",
       "59          150.0            0  \n",
       "60          230.0            1  \n",
       "61          160.0            1  \n",
       "\n",
       "[62 rows x 112 columns]"
      ]
     },
     "execution_count": 141,
     "metadata": {},
     "output_type": "execute_result"
    }
   ],
   "source": [
    "df21[df21['overall']>85]"
   ]
  },
  {
   "cell_type": "code",
   "execution_count": 143,
   "id": "898d1b46",
   "metadata": {},
   "outputs": [
    {
     "data": {
      "text/html": [
       "<div>\n",
       "<style scoped>\n",
       "    .dataframe tbody tr th:only-of-type {\n",
       "        vertical-align: middle;\n",
       "    }\n",
       "\n",
       "    .dataframe tbody tr th {\n",
       "        vertical-align: top;\n",
       "    }\n",
       "\n",
       "    .dataframe thead th {\n",
       "        text-align: right;\n",
       "    }\n",
       "</style>\n",
       "<table border=\"1\" class=\"dataframe\">\n",
       "  <thead>\n",
       "    <tr style=\"text-align: right;\">\n",
       "      <th></th>\n",
       "      <th>sofifa_id</th>\n",
       "      <th>player_url</th>\n",
       "      <th>short_name</th>\n",
       "      <th>long_name</th>\n",
       "      <th>age</th>\n",
       "      <th>dob</th>\n",
       "      <th>height_cm</th>\n",
       "      <th>weight_kg</th>\n",
       "      <th>nationality</th>\n",
       "      <th>club_name</th>\n",
       "      <th>...</th>\n",
       "      <th>lcb</th>\n",
       "      <th>cb</th>\n",
       "      <th>rcb</th>\n",
       "      <th>rb</th>\n",
       "      <th>primary_position</th>\n",
       "      <th>derivative</th>\n",
       "      <th>is_elite</th>\n",
       "      <th>value_million</th>\n",
       "      <th>wage_thousand</th>\n",
       "      <th>high_growth</th>\n",
       "    </tr>\n",
       "  </thead>\n",
       "  <tbody>\n",
       "    <tr>\n",
       "      <th>6</th>\n",
       "      <td>231747</td>\n",
       "      <td>https://sofifa.com/player/231747/kylian-mbappe...</td>\n",
       "      <td>K. Mbappé</td>\n",
       "      <td>Kylian Mbappé Lottin</td>\n",
       "      <td>21</td>\n",
       "      <td>1998-12-20</td>\n",
       "      <td>178</td>\n",
       "      <td>73</td>\n",
       "      <td>France</td>\n",
       "      <td>Paris Saint-Germain</td>\n",
       "      <td>...</td>\n",
       "      <td>55+3</td>\n",
       "      <td>55+3</td>\n",
       "      <td>55+3</td>\n",
       "      <td>63+3</td>\n",
       "      <td>ST</td>\n",
       "      <td>2*overall</td>\n",
       "      <td>1</td>\n",
       "      <td>105.5</td>\n",
       "      <td>160.0</td>\n",
       "      <td>1</td>\n",
       "    </tr>\n",
       "    <tr>\n",
       "      <th>4</th>\n",
       "      <td>190871</td>\n",
       "      <td>https://sofifa.com/player/190871/neymar-da-sil...</td>\n",
       "      <td>Neymar Jr</td>\n",
       "      <td>Neymar da Silva Santos Júnior</td>\n",
       "      <td>28</td>\n",
       "      <td>1992-02-05</td>\n",
       "      <td>175</td>\n",
       "      <td>68</td>\n",
       "      <td>Brazil</td>\n",
       "      <td>Paris Saint-Germain</td>\n",
       "      <td>...</td>\n",
       "      <td>49+3</td>\n",
       "      <td>49+3</td>\n",
       "      <td>49+3</td>\n",
       "      <td>62+3</td>\n",
       "      <td>LW</td>\n",
       "      <td>2*overall</td>\n",
       "      <td>1</td>\n",
       "      <td>90.0</td>\n",
       "      <td>270.0</td>\n",
       "      <td>1</td>\n",
       "    </tr>\n",
       "    <tr>\n",
       "      <th>5</th>\n",
       "      <td>192985</td>\n",
       "      <td>https://sofifa.com/player/192985/kevin-de-bruy...</td>\n",
       "      <td>K. De Bruyne</td>\n",
       "      <td>Kevin De Bruyne</td>\n",
       "      <td>29</td>\n",
       "      <td>1991-06-28</td>\n",
       "      <td>181</td>\n",
       "      <td>70</td>\n",
       "      <td>Belgium</td>\n",
       "      <td>Manchester City</td>\n",
       "      <td>...</td>\n",
       "      <td>69+3</td>\n",
       "      <td>69+3</td>\n",
       "      <td>69+3</td>\n",
       "      <td>75+3</td>\n",
       "      <td>CAM</td>\n",
       "      <td>2*overall</td>\n",
       "      <td>1</td>\n",
       "      <td>87.0</td>\n",
       "      <td>370.0</td>\n",
       "      <td>1</td>\n",
       "    </tr>\n",
       "    <tr>\n",
       "      <th>3</th>\n",
       "      <td>188545</td>\n",
       "      <td>https://sofifa.com/player/188545/robert-lewand...</td>\n",
       "      <td>R. Lewandowski</td>\n",
       "      <td>Robert Lewandowski</td>\n",
       "      <td>31</td>\n",
       "      <td>1988-08-21</td>\n",
       "      <td>184</td>\n",
       "      <td>80</td>\n",
       "      <td>Poland</td>\n",
       "      <td>FC Bayern München</td>\n",
       "      <td>...</td>\n",
       "      <td>60+3</td>\n",
       "      <td>60+3</td>\n",
       "      <td>60+3</td>\n",
       "      <td>61+3</td>\n",
       "      <td>ST</td>\n",
       "      <td>2*overall</td>\n",
       "      <td>1</td>\n",
       "      <td>80.0</td>\n",
       "      <td>240.0</td>\n",
       "      <td>1</td>\n",
       "    </tr>\n",
       "    <tr>\n",
       "      <th>11</th>\n",
       "      <td>209331</td>\n",
       "      <td>https://sofifa.com/player/209331/mohamed-salah...</td>\n",
       "      <td>M. Salah</td>\n",
       "      <td>Mohamed Salah Ghaly</td>\n",
       "      <td>28</td>\n",
       "      <td>1992-06-15</td>\n",
       "      <td>175</td>\n",
       "      <td>71</td>\n",
       "      <td>Egypt</td>\n",
       "      <td>Liverpool</td>\n",
       "      <td>...</td>\n",
       "      <td>58+3</td>\n",
       "      <td>58+3</td>\n",
       "      <td>58+3</td>\n",
       "      <td>67+3</td>\n",
       "      <td>RW</td>\n",
       "      <td>2*overall</td>\n",
       "      <td>1</td>\n",
       "      <td>78.0</td>\n",
       "      <td>250.0</td>\n",
       "      <td>1</td>\n",
       "    </tr>\n",
       "    <tr>\n",
       "      <th>...</th>\n",
       "      <td>...</td>\n",
       "      <td>...</td>\n",
       "      <td>...</td>\n",
       "      <td>...</td>\n",
       "      <td>...</td>\n",
       "      <td>...</td>\n",
       "      <td>...</td>\n",
       "      <td>...</td>\n",
       "      <td>...</td>\n",
       "      <td>...</td>\n",
       "      <td>...</td>\n",
       "      <td>...</td>\n",
       "      <td>...</td>\n",
       "      <td>...</td>\n",
       "      <td>...</td>\n",
       "      <td>...</td>\n",
       "      <td>...</td>\n",
       "      <td>...</td>\n",
       "      <td>...</td>\n",
       "      <td>...</td>\n",
       "      <td>...</td>\n",
       "    </tr>\n",
       "    <tr>\n",
       "      <th>3801</th>\n",
       "      <td>251693</td>\n",
       "      <td>https://sofifa.com/player/251693/anthony-alfar...</td>\n",
       "      <td>A. Alfárnez</td>\n",
       "      <td>Anthony Alfárnez</td>\n",
       "      <td>35</td>\n",
       "      <td>1985-04-07</td>\n",
       "      <td>182</td>\n",
       "      <td>78</td>\n",
       "      <td>Ecuador</td>\n",
       "      <td>NaN</td>\n",
       "      <td>...</td>\n",
       "      <td>47+2</td>\n",
       "      <td>47+2</td>\n",
       "      <td>47+2</td>\n",
       "      <td>51+2</td>\n",
       "      <td>ST</td>\n",
       "      <td>2*overall</td>\n",
       "      <td>0</td>\n",
       "      <td>0.0</td>\n",
       "      <td>0.0</td>\n",
       "      <td>1</td>\n",
       "    </tr>\n",
       "    <tr>\n",
       "      <th>3623</th>\n",
       "      <td>202746</td>\n",
       "      <td>https://sofifa.com/player/202746/thulani-serer...</td>\n",
       "      <td>T. Serero</td>\n",
       "      <td>Thulani Caleeb Serero</td>\n",
       "      <td>30</td>\n",
       "      <td>1990-04-11</td>\n",
       "      <td>172</td>\n",
       "      <td>68</td>\n",
       "      <td>South Africa</td>\n",
       "      <td>NaN</td>\n",
       "      <td>...</td>\n",
       "      <td>64+2</td>\n",
       "      <td>64+2</td>\n",
       "      <td>64+2</td>\n",
       "      <td>69+2</td>\n",
       "      <td>CM</td>\n",
       "      <td>2*overall</td>\n",
       "      <td>0</td>\n",
       "      <td>0.0</td>\n",
       "      <td>0.0</td>\n",
       "      <td>1</td>\n",
       "    </tr>\n",
       "    <tr>\n",
       "      <th>3677</th>\n",
       "      <td>214294</td>\n",
       "      <td>https://sofifa.com/player/214294/esteban-pavez...</td>\n",
       "      <td>E. Pavez</td>\n",
       "      <td>Esteban Andres Pavez Suazo</td>\n",
       "      <td>30</td>\n",
       "      <td>1990-05-01</td>\n",
       "      <td>180</td>\n",
       "      <td>76</td>\n",
       "      <td>Chile</td>\n",
       "      <td>NaN</td>\n",
       "      <td>...</td>\n",
       "      <td>72+0</td>\n",
       "      <td>72+0</td>\n",
       "      <td>72+0</td>\n",
       "      <td>71+1</td>\n",
       "      <td>CM</td>\n",
       "      <td>2*overall</td>\n",
       "      <td>0</td>\n",
       "      <td>0.0</td>\n",
       "      <td>0.0</td>\n",
       "      <td>1</td>\n",
       "    </tr>\n",
       "    <tr>\n",
       "      <th>3664</th>\n",
       "      <td>211592</td>\n",
       "      <td>https://sofifa.com/player/211592/andrey-semeno...</td>\n",
       "      <td>A. Semenov</td>\n",
       "      <td>Andrey Semenov</td>\n",
       "      <td>31</td>\n",
       "      <td>1989-03-24</td>\n",
       "      <td>190</td>\n",
       "      <td>86</td>\n",
       "      <td>Russia</td>\n",
       "      <td>NaN</td>\n",
       "      <td>...</td>\n",
       "      <td>72+0</td>\n",
       "      <td>72+0</td>\n",
       "      <td>72+0</td>\n",
       "      <td>69+2</td>\n",
       "      <td>CB</td>\n",
       "      <td>2*overall</td>\n",
       "      <td>0</td>\n",
       "      <td>0.0</td>\n",
       "      <td>0.0</td>\n",
       "      <td>1</td>\n",
       "    </tr>\n",
       "    <tr>\n",
       "      <th>5243</th>\n",
       "      <td>213106</td>\n",
       "      <td>https://sofifa.com/player/213106/runar-mar-sig...</td>\n",
       "      <td>R. Sigurjónsson</td>\n",
       "      <td>Rúnar Már Sigurjónsson</td>\n",
       "      <td>30</td>\n",
       "      <td>1990-06-18</td>\n",
       "      <td>178</td>\n",
       "      <td>83</td>\n",
       "      <td>Iceland</td>\n",
       "      <td>NaN</td>\n",
       "      <td>...</td>\n",
       "      <td>61+2</td>\n",
       "      <td>61+2</td>\n",
       "      <td>61+2</td>\n",
       "      <td>62+2</td>\n",
       "      <td>CM</td>\n",
       "      <td>2*overall</td>\n",
       "      <td>0</td>\n",
       "      <td>0.0</td>\n",
       "      <td>0.0</td>\n",
       "      <td>1</td>\n",
       "    </tr>\n",
       "  </tbody>\n",
       "</table>\n",
       "<p>18944 rows × 112 columns</p>\n",
       "</div>"
      ],
      "text/plain": [
       "      sofifa_id                                         player_url  \\\n",
       "6        231747  https://sofifa.com/player/231747/kylian-mbappe...   \n",
       "4        190871  https://sofifa.com/player/190871/neymar-da-sil...   \n",
       "5        192985  https://sofifa.com/player/192985/kevin-de-bruy...   \n",
       "3        188545  https://sofifa.com/player/188545/robert-lewand...   \n",
       "11       209331  https://sofifa.com/player/209331/mohamed-salah...   \n",
       "...         ...                                                ...   \n",
       "3801     251693  https://sofifa.com/player/251693/anthony-alfar...   \n",
       "3623     202746  https://sofifa.com/player/202746/thulani-serer...   \n",
       "3677     214294  https://sofifa.com/player/214294/esteban-pavez...   \n",
       "3664     211592  https://sofifa.com/player/211592/andrey-semeno...   \n",
       "5243     213106  https://sofifa.com/player/213106/runar-mar-sig...   \n",
       "\n",
       "           short_name                      long_name  age         dob  \\\n",
       "6           K. Mbappé           Kylian Mbappé Lottin   21  1998-12-20   \n",
       "4           Neymar Jr  Neymar da Silva Santos Júnior   28  1992-02-05   \n",
       "5        K. De Bruyne                Kevin De Bruyne   29  1991-06-28   \n",
       "3      R. Lewandowski             Robert Lewandowski   31  1988-08-21   \n",
       "11           M. Salah            Mohamed Salah Ghaly   28  1992-06-15   \n",
       "...               ...                            ...  ...         ...   \n",
       "3801      A. Alfárnez               Anthony Alfárnez   35  1985-04-07   \n",
       "3623        T. Serero          Thulani Caleeb Serero   30  1990-04-11   \n",
       "3677         E. Pavez     Esteban Andres Pavez Suazo   30  1990-05-01   \n",
       "3664       A. Semenov                 Andrey Semenov   31  1989-03-24   \n",
       "5243  R. Sigurjónsson         Rúnar Már Sigurjónsson   30  1990-06-18   \n",
       "\n",
       "      height_cm  weight_kg   nationality            club_name  ...   lcb  \\\n",
       "6           178         73        France  Paris Saint-Germain  ...  55+3   \n",
       "4           175         68        Brazil  Paris Saint-Germain  ...  49+3   \n",
       "5           181         70       Belgium      Manchester City  ...  69+3   \n",
       "3           184         80        Poland    FC Bayern München  ...  60+3   \n",
       "11          175         71         Egypt            Liverpool  ...  58+3   \n",
       "...         ...        ...           ...                  ...  ...   ...   \n",
       "3801        182         78       Ecuador                  NaN  ...  47+2   \n",
       "3623        172         68  South Africa                  NaN  ...  64+2   \n",
       "3677        180         76         Chile                  NaN  ...  72+0   \n",
       "3664        190         86        Russia                  NaN  ...  72+0   \n",
       "5243        178         83       Iceland                  NaN  ...  61+2   \n",
       "\n",
       "        cb   rcb    rb  primary_position  derivative is_elite value_million  \\\n",
       "6     55+3  55+3  63+3                ST   2*overall        1         105.5   \n",
       "4     49+3  49+3  62+3                LW   2*overall        1          90.0   \n",
       "5     69+3  69+3  75+3               CAM   2*overall        1          87.0   \n",
       "3     60+3  60+3  61+3                ST   2*overall        1          80.0   \n",
       "11    58+3  58+3  67+3                RW   2*overall        1          78.0   \n",
       "...    ...   ...   ...               ...         ...      ...           ...   \n",
       "3801  47+2  47+2  51+2                ST   2*overall        0           0.0   \n",
       "3623  64+2  64+2  69+2                CM   2*overall        0           0.0   \n",
       "3677  72+0  72+0  71+1                CM   2*overall        0           0.0   \n",
       "3664  72+0  72+0  69+2                CB   2*overall        0           0.0   \n",
       "5243  61+2  61+2  62+2                CM   2*overall        0           0.0   \n",
       "\n",
       "      wage_thousand  high_growth  \n",
       "6             160.0            1  \n",
       "4             270.0            1  \n",
       "5             370.0            1  \n",
       "3             240.0            1  \n",
       "11            250.0            1  \n",
       "...             ...          ...  \n",
       "3801            0.0            1  \n",
       "3623            0.0            1  \n",
       "3677            0.0            1  \n",
       "3664            0.0            1  \n",
       "5243            0.0            1  \n",
       "\n",
       "[18944 rows x 112 columns]"
      ]
     },
     "execution_count": 143,
     "metadata": {},
     "output_type": "execute_result"
    }
   ],
   "source": [
    "df21.sort_values(by='value_eur',ascending=False)"
   ]
  },
  {
   "cell_type": "code",
   "execution_count": 145,
   "id": "118eba1e",
   "metadata": {},
   "outputs": [
    {
     "data": {
      "text/plain": [
       "nationality\n",
       "Afghanistan      2\n",
       "Albania         49\n",
       "Algeria         52\n",
       "Andorra          1\n",
       "Angola          16\n",
       "              ... \n",
       "Uzbekistan       7\n",
       "Venezuela      198\n",
       "Wales          124\n",
       "Zambia          11\n",
       "Zimbabwe        11\n",
       "Length: 162, dtype: int64"
      ]
     },
     "execution_count": 145,
     "metadata": {},
     "output_type": "execute_result"
    }
   ],
   "source": [
    "df21.groupby('nationality').size()"
   ]
  },
  {
   "cell_type": "code",
   "execution_count": 149,
   "id": "71ecc73e",
   "metadata": {},
   "outputs": [
    {
     "data": {
      "text/plain": [
       "np.int64(3361)"
      ]
     },
     "execution_count": 149,
     "metadata": {},
     "output_type": "execute_result"
    }
   ],
   "source": [
    "df21['player_positions'].str.contains(\"ST\", case=False, na=False).sum()"
   ]
  },
  {
   "cell_type": "markdown",
   "id": "3550f3f4",
   "metadata": {},
   "source": [
    "Part 8 – Insights\n",
    "Which player has the highest market value?\n",
    "Which club has the highest average overall rating?\n",
    "Which nationality has the most players?\n",
    "Is there a strong correlation between potential and overall?\n",
    "What percentage of players are “elite” (overall ≥ 85)?\n"
   ]
  },
  {
   "cell_type": "code",
   "execution_count": 155,
   "id": "451d62a1",
   "metadata": {},
   "outputs": [
    {
     "data": {
      "text/html": [
       "<div>\n",
       "<style scoped>\n",
       "    .dataframe tbody tr th:only-of-type {\n",
       "        vertical-align: middle;\n",
       "    }\n",
       "\n",
       "    .dataframe tbody tr th {\n",
       "        vertical-align: top;\n",
       "    }\n",
       "\n",
       "    .dataframe thead th {\n",
       "        text-align: right;\n",
       "    }\n",
       "</style>\n",
       "<table border=\"1\" class=\"dataframe\">\n",
       "  <thead>\n",
       "    <tr style=\"text-align: right;\">\n",
       "      <th></th>\n",
       "      <th>sofifa_id</th>\n",
       "      <th>player_url</th>\n",
       "      <th>short_name</th>\n",
       "      <th>long_name</th>\n",
       "      <th>age</th>\n",
       "      <th>dob</th>\n",
       "      <th>height_cm</th>\n",
       "      <th>weight_kg</th>\n",
       "      <th>nationality</th>\n",
       "      <th>club_name</th>\n",
       "      <th>...</th>\n",
       "      <th>lcb</th>\n",
       "      <th>cb</th>\n",
       "      <th>rcb</th>\n",
       "      <th>rb</th>\n",
       "      <th>primary_position</th>\n",
       "      <th>derivative</th>\n",
       "      <th>is_elite</th>\n",
       "      <th>value_million</th>\n",
       "      <th>wage_thousand</th>\n",
       "      <th>high_growth</th>\n",
       "    </tr>\n",
       "  </thead>\n",
       "  <tbody>\n",
       "    <tr>\n",
       "      <th>6</th>\n",
       "      <td>231747</td>\n",
       "      <td>https://sofifa.com/player/231747/kylian-mbappe...</td>\n",
       "      <td>K. Mbappé</td>\n",
       "      <td>Kylian Mbappé Lottin</td>\n",
       "      <td>21</td>\n",
       "      <td>1998-12-20</td>\n",
       "      <td>178</td>\n",
       "      <td>73</td>\n",
       "      <td>France</td>\n",
       "      <td>Paris Saint-Germain</td>\n",
       "      <td>...</td>\n",
       "      <td>55+3</td>\n",
       "      <td>55+3</td>\n",
       "      <td>55+3</td>\n",
       "      <td>63+3</td>\n",
       "      <td>ST</td>\n",
       "      <td>2*overall</td>\n",
       "      <td>1</td>\n",
       "      <td>105.5</td>\n",
       "      <td>160.0</td>\n",
       "      <td>1</td>\n",
       "    </tr>\n",
       "  </tbody>\n",
       "</table>\n",
       "<p>1 rows × 112 columns</p>\n",
       "</div>"
      ],
      "text/plain": [
       "   sofifa_id                                         player_url short_name  \\\n",
       "6     231747  https://sofifa.com/player/231747/kylian-mbappe...  K. Mbappé   \n",
       "\n",
       "              long_name  age         dob  height_cm  weight_kg nationality  \\\n",
       "6  Kylian Mbappé Lottin   21  1998-12-20        178         73      France   \n",
       "\n",
       "             club_name  ...   lcb    cb   rcb    rb  primary_position  \\\n",
       "6  Paris Saint-Germain  ...  55+3  55+3  55+3  63+3                ST   \n",
       "\n",
       "   derivative is_elite value_million  wage_thousand  high_growth  \n",
       "6   2*overall        1         105.5          160.0            1  \n",
       "\n",
       "[1 rows x 112 columns]"
      ]
     },
     "execution_count": 155,
     "metadata": {},
     "output_type": "execute_result"
    }
   ],
   "source": [
    "df21[df21['value_eur'] == df21['value_eur'].max()]"
   ]
  },
  {
   "cell_type": "code",
   "execution_count": null,
   "id": "6d35e62a",
   "metadata": {},
   "outputs": [],
   "source": [
    "club_highest_avg = (\n",
    "    df21.groupby('club_name')['overall']\n",
    "    .mean()\n",
    "    .sort_values(ascending=False)\n",
    "    .head(1)\n",
    ")\n",
    "print(club_highest_avg)"
   ]
  },
  {
   "cell_type": "code",
   "execution_count": null,
   "id": "f9ad1601",
   "metadata": {},
   "outputs": [],
   "source": [
    "nationality_most_players = (\n",
    "    df21['nationality']\n",
    "    .value_counts()\n",
    "    .head(1)\n",
    ")\n",
    "print(nationality_most_players)"
   ]
  },
  {
   "cell_type": "code",
   "execution_count": 156,
   "id": "e1f900a3",
   "metadata": {},
   "outputs": [
    {
     "name": "stdout",
     "output_type": "stream",
     "text": [
      "Correlation between potential and overall: 0.6363662070314502\n"
     ]
    }
   ],
   "source": [
    "correlation = df21['potential'].corr(df21['overall'])\n",
    "print(\"Correlation between potential and overall:\", correlation)"
   ]
  },
  {
   "cell_type": "code",
   "execution_count": 157,
   "id": "2b61f05c",
   "metadata": {},
   "outputs": [
    {
     "name": "stdout",
     "output_type": "stream",
     "text": [
      "Elite players: 0.52%\n"
     ]
    }
   ],
   "source": [
    "elite_percentage = (df21['overall'] >= 85).mean() * 100\n",
    "print(f\"Elite players: {elite_percentage:.2f}%\")"
   ]
  }
 ],
 "metadata": {
  "kernelspec": {
   "display_name": "earth",
   "language": "python",
   "name": "python3"
  },
  "language_info": {
   "codemirror_mode": {
    "name": "ipython",
    "version": 3
   },
   "file_extension": ".py",
   "mimetype": "text/x-python",
   "name": "python",
   "nbconvert_exporter": "python",
   "pygments_lexer": "ipython3",
   "version": "3.12.0"
  }
 },
 "nbformat": 4,
 "nbformat_minor": 5
}
